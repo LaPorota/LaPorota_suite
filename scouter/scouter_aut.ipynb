{
 "cells": [
  {
   "cell_type": "code",
   "execution_count": 1,
   "metadata": {},
   "outputs": [],
   "source": [
    "import subprocess\n",
    "import re\n",
    "import os\n",
    "import xml.etree.ElementTree as ET\n",
    "import pandas as pd\n",
    "import json\n",
    "from jinja2 import Template\n",
    "import datetime"
   ]
  },
  {
   "cell_type": "code",
   "execution_count": 2,
   "metadata": {},
   "outputs": [
    {
     "name": "stdout",
     "output_type": "stream",
     "text": [
      "\u001b[1;31;47m   _____                 _     ______            _       _ _             \n",
      "\u001b[1;31;47m  / ____|               | |   |  ____|          | |     (_) |            \n",
      "\u001b[1;31;47m | (___   ___ ___  _   _| |_  | |__  __  ___ __ | | ___  _| |_ ___ _ __  \n",
      "\u001b[1;31;47m  \\___ \\ / __/ _ \\| | | | __| |  __| \\ \\/ / '_ \\| |/ _ \\| | __/ _ \\ '__| \n",
      "\u001b[1;31;47m  ____) | (_| (_) | |_| | |_  | |____ >  <| |_) | | (_) | | ||  __/ |    \n",
      "\u001b[1;31;47m |_____/ \\___\\___/ \\__,_|\\__| |______/_/\\_\\ .__/|_|\\___/|_|\\__\\___|_|    \n",
      "\u001b[1;31;47m                                          | |                            \n",
      "\u001b[1;31;47m                                          |_|    v1.0 BY PEDRO ORLANDO   \u001b[0;m\n"
     ]
    }
   ],
   "source": [
    "print(f\"\\033[1;31;47m   _____                 _     ______            _       _ _             \")\n",
    "print(f\"\\033[1;31;47m  / ____|               | |   |  ____|          | |     (_) |            \")\n",
    "print(f\"\\033[1;31;47m | (___   ___ ___  _   _| |_  | |__  __  ___ __ | | ___  _| |_ ___ _ __  \")\n",
    "print(f\"\\033[1;31;47m  \\___ \\ / __/ _ \\| | | | __| |  __| \\ \\/ / '_ \\| |/ _ \\| | __/ _ \\ '__| \")\n",
    "print(f\"\\033[1;31;47m  ____) | (_| (_) | |_| | |_  | |____ >  <| |_) | | (_) | | ||  __/ |    \")\n",
    "print(f\"\\033[1;31;47m |_____/ \\___\\___/ \\__,_|\\__| |______/_/\\_\\ .__/|_|\\___/|_|\\__\\___|_|    \")\n",
    "print(f\"\\033[1;31;47m                                          | |                            \")\n",
    "print(f\"\\033[1;31;47m                                          |_|    v1.0 BY PEDRO ORLANDO   \\033[0;m\")"
   ]
  },
  {
   "cell_type": "code",
   "execution_count": 3,
   "metadata": {},
   "outputs": [
    {
     "name": "stdout",
     "output_type": "stream",
     "text": [
      "\u001b[1;37mScript started at: \u001b[1;32m 2023-03-30 20:10:15\n"
     ]
    }
   ],
   "source": [
    "start_time =datetime.datetime.now()\n",
    "print(f\"\\033[1;37mScript started at: \\033[1;32m {start_time.strftime('%Y-%m-%d %H:%M:%S')}\")"
   ]
  },
  {
   "cell_type": "code",
   "execution_count": 4,
   "metadata": {},
   "outputs": [
    {
     "name": "stdout",
     "output_type": "stream",
     "text": [
      "\u001b[1;37mOutput data will be stored in: \u001b[1;32m /home/kali/Desktop/scans/\n"
     ]
    }
   ],
   "source": [
    "dir_path = \"/home/kali/Desktop/scans/\"\n",
    "print(f\"\\033[1;37mOutput data will be stored in: \\033[1;32m {dir_path}\")\n",
    "os.chdir(dir_path)"
   ]
  },
  {
   "cell_type": "code",
   "execution_count": 5,
   "metadata": {},
   "outputs": [],
   "source": [
    "def get_mi_ip():\n",
    "    output = subprocess.check_output(['ifconfig', 'eth0']).decode()\n",
    "    match = re.search(r'inet\\s+(?P<ip>\\d+\\.\\d+\\.\\d+\\.\\d+)', output)\n",
    "    if match:\n",
    "        private_ip = match.group('ip')\n",
    "        return private_ip\n",
    "    else:\n",
    "        print(\"\\033[1;31mPrivate IP address not found for eth0\")"
   ]
  },
  {
   "cell_type": "code",
   "execution_count": 6,
   "metadata": {},
   "outputs": [],
   "source": [
    "def get_network():\n",
    "    oct1,oct2,oct3,oct4 = get_mi_ip().split(\".\")\n",
    "    network_to_scan =f'{oct1}.{oct2}.{oct3}.0/24'\n",
    "    print(f\"\\033[1;37mNetwork Range found: \\033[1;32m {network_to_scan}\")\n",
    "    return network_to_scan"
   ]
  },
  {
   "cell_type": "code",
   "execution_count": 7,
   "metadata": {},
   "outputs": [],
   "source": [
    "def get_hosts():\n",
    "    up_hosts = []\n",
    "    tree = ET.parse('hosts.xml')\n",
    "    root = tree.getroot()\n",
    "    for address in root.findall('.//address'):\n",
    "        addr = address.get('addr')\n",
    "        if addr != get_mi_ip():\n",
    "            if address.get('addrtype') == 'ipv4':\n",
    "                up_hosts.append(addr)\n",
    "    return up_hosts   "
   ]
  },
  {
   "cell_type": "code",
   "execution_count": 8,
   "metadata": {},
   "outputs": [],
   "source": [
    "def create_search(product, version = None):\n",
    "    if product != None and version != None:\n",
    "        return product + ' ' + version\n",
    "    elif product != None and version == None:\n",
    "        return product\n",
    "    elif product == None and version != None:\n",
    "        return version\n",
    "    else:\n",
    "        return None"
   ]
  },
  {
   "cell_type": "code",
   "execution_count": 9,
   "metadata": {},
   "outputs": [],
   "source": [
    "def search_exploits(search_string):\n",
    "    \n",
    "    if search_string is not None:\n",
    "        if search_string.isdigit() and len(search_string) == 1:\n",
    "            search_string = None\n",
    "    cmd = f\"searchsploit -j {search_string}\"\n",
    "    exploits = subprocess.check_output(cmd, shell=True)\n",
    "    output1 = exploits.decode('utf-8')\n",
    "    to_json = json.loads(output1)\n",
    "    \n",
    "    return to_json\n",
    "   \n"
   ]
  },
  {
   "cell_type": "code",
   "execution_count": 12,
   "metadata": {},
   "outputs": [],
   "source": [
    "hosters = []\n",
    "protocols = []\n",
    "portids = []\n",
    "ports_status = []\n",
    "names = []\n",
    "versions = []\n",
    "exploits_name = []\n",
    "urls= []\n",
    "paths = []\n"
   ]
  },
  {
   "cell_type": "code",
   "execution_count": 13,
   "metadata": {},
   "outputs": [
    {
     "name": "stdout",
     "output_type": "stream",
     "text": [
      "\u001b[1;37mNetwork Range found: \u001b[1;32m 192.168.50.0/24\n"
     ]
    }
   ],
   "source": [
    "hosts_request = f\"nmap -sn -n -oX hosts.xml {get_network()}\"\n",
    "host_discovery = subprocess.check_output(hosts_request, shell=True)\n"
   ]
  },
  {
   "cell_type": "code",
   "execution_count": 14,
   "metadata": {},
   "outputs": [
    {
     "name": "stdout",
     "output_type": "stream",
     "text": [
      "\u001b[1;37mHosts up in the network: \u001b[1;32m 192.168.50.137\n",
      "\n"
     ]
    }
   ],
   "source": [
    "hosts = get_hosts()\n",
    "found_hosts = \"\"\n",
    "for host in hosts:\n",
    "    found_hosts += host + \"\\n\"\n",
    "print(f\"\"\"\\033[1;37mHosts up in the network: \\033[1;32m {found_hosts}\"\"\")"
   ]
  },
  {
   "cell_type": "code",
   "execution_count": 15,
   "metadata": {},
   "outputs": [
    {
     "name": "stdout",
     "output_type": "stream",
     "text": [
      "\u001b[1;37mPort scan ended for host: \u001b[1;32m192.168.50.137\n",
      "\u001b[1;33m File data created in the export directory\n",
      "\u001b[1;37m Searching for \u001b[1;34m EXPLOITS\n",
      "\u001b[1;37m Found: \u001b[1;34m 241 EXPLOITS\n"
     ]
    }
   ],
   "source": [
    "\n",
    "for host in hosts:\n",
    "    counter = 0\n",
    "    service_request = f\"nmap -sV -n -oX {host}.xml {host}\"\n",
    "    service_discovery = subprocess.check_output(service_request, shell=True)\n",
    "    tree = ET.parse(f'{host}.xml')\n",
    "    root = tree.getroot()\n",
    "    print(f\"\\033[1;37mPort scan ended for host: \\033[1;32m{host}\")\n",
    "    print(f\"\\033[1;33m File data created in the export directory\")\n",
    "\n",
    "    print(f\"\\033[1;37m Searching for \\033[1;34m EXPLOITS\")\n",
    "    for port in root.findall('.//port'):\n",
    "        \n",
    "        protocol= port.get('protocol')\n",
    "        portid = port.get('portid')\n",
    "        state = port.find('state')\n",
    "        port_status = state.get('state')\n",
    "        service = port.find('service')\n",
    "\n",
    "        if service is not None:\n",
    "            name= service.get('name')\n",
    "            product = service.get('product')\n",
    "            version = service.get('version')\n",
    "            \n",
    "            if version is not int:\n",
    "                versions.append(create_search(product, version))\n",
    "            else:\n",
    "                versions.append(create_search(product))\n",
    "            events = search_exploits(create_search(product, version))\n",
    "            \n",
    "            for event in events['RESULTS_EXPLOIT']:\n",
    "                hosters.append(host)\n",
    "                protocols.append(protocol)\n",
    "                portids.append(portid)\n",
    "                ports_status.append(port_status)\n",
    "                names.append(name)\n",
    "                exploits_name.append(event['Title'])\n",
    "                urls.append(event['Application'])\n",
    "                paths.append(event['Path'])\n",
    "                counter += 1\n",
    "    \n",
    "    print(f\"\\033[1;37m Found: \\033[1;34m {counter} EXPLOITS\")\n",
    "            \n",
    "            "
   ]
  },
  {
   "cell_type": "code",
   "execution_count": 31,
   "metadata": {},
   "outputs": [],
   "source": [
    "urls2 =[]\n",
    "for i in urls:\n",
    "    \n",
    "    urls2.append(i.replace(\".com\", \".com/\"))"
   ]
  },
  {
   "cell_type": "code",
   "execution_count": null,
   "metadata": {},
   "outputs": [],
   "source": [
    "urls2"
   ]
  },
  {
   "cell_type": "code",
   "execution_count": 28,
   "metadata": {},
   "outputs": [],
   "source": [
    "df = pd.DataFrame({\n",
    "    'Host': hosters,\n",
    "    'Protocol': protocols,\n",
    "    'Port ID': portids,\n",
    "    'Port Status': ports_status,\n",
    "    \"Exploits\": exploits_name,\n",
    "    \"URL\" : urls,\n",
    "    'Paths': paths\n",
    "\n",
    "})"
   ]
  },
  {
   "cell_type": "code",
   "execution_count": 27,
   "metadata": {},
   "outputs": [
    {
     "name": "stdout",
     "output_type": "stream",
     "text": [
      "\u001b[1;36mEXPORTING DATA...\n"
     ]
    }
   ],
   "source": [
    "print(f\"\\033[1;36mEXPORTING DATA...\")"
   ]
  },
  {
   "cell_type": "code",
   "execution_count": 29,
   "metadata": {},
   "outputs": [],
   "source": [
    "pd.set_option('display.max_colwidth', None)\n",
    "pd.set_option('display.expand_frame_repr', False)\n",
    "pd.set_option('display.precision', 2)\n",
    "pd.set_option('display.unicode.ambiguous_as_wide', True)"
   ]
  },
  {
   "cell_type": "code",
   "execution_count": 30,
   "metadata": {},
   "outputs": [],
   "source": [
    "template = Template(open(\"plantilla.html\").read())\n",
    "\n",
    "html = template.render(title=\"Results\", table=df.to_html(index=False, col_space=None))\n",
    "\n",
    "\n",
    "with open(\"Result.html\", \"w\") as f:\n",
    "    f.write(html.replace(\"&lt;br&gt;\", \"<br>\"))\n",
    "    "
   ]
  },
  {
   "cell_type": "code",
   "execution_count": 31,
   "metadata": {},
   "outputs": [],
   "source": [
    "hosts_quantity = len(hosts)"
   ]
  },
  {
   "cell_type": "code",
   "execution_count": 48,
   "metadata": {},
   "outputs": [],
   "source": [
    "end_time = datetime.datetime.now()\n"
   ]
  },
  {
   "cell_type": "code",
   "execution_count": 68,
   "metadata": {},
   "outputs": [
    {
     "name": "stdout",
     "output_type": "stream",
     "text": [
      "\u001b[1;37mScripts ending: \u001b[1;32m2023-03-30 16:23:53\n",
      "\u001b[1;32m1 \u001b[1;37mhost scanned. Scann time: \u001b[1;32m0:00:49\n",
      "\u001b[1;31m2410 \u001b[1;34mEXPLOITS \u001b[1;37mFOUNDED\n"
     ]
    }
   ],
   "source": [
    "print(f\"\\033[1;37mScripts ending: \\033[1;32m{end_time.strftime('%Y-%m-%d %H:%M:%S')}\")\n",
    "duration_time = (end_time - start_time)\n",
    "hosts_quantity = len(hosts)\n",
    "exploit_quantity= len(exploits_name)\n",
    "if hosts_quantity > 1:\n",
    "    print(f\"\\033[1;32m{hosts_quantity} \\033[1;37mhosts scannedScann time: \\033[1;32m{str(duration_time).split('.')[0]}\")\n",
    "else:\n",
    "    print(f\"\\033[1;32m{hosts_quantity} \\033[1;37mhost scanned. Scann time: \\033[1;32m{str(duration_time).split('.')[0]}\")\n",
    "\n",
    "if exploit_quantity > 1:\n",
    "    print(f\"\\033[1;31m{exploit_quantity} \\033[1;34mEXPLOITS \\033[1;37mFOUNDED\")\n",
    "else:\n",
    "    print(f\"{exploit_quantity} EXPLOIT FOUNDED\")"
   ]
  },
  {
   "cell_type": "code",
   "execution_count": null,
   "metadata": {},
   "outputs": [],
   "source": []
  }
 ],
 "metadata": {
  "kernelspec": {
   "display_name": "Python 3",
   "language": "python",
   "name": "python3"
  },
  "language_info": {
   "codemirror_mode": {
    "name": "ipython",
    "version": 3
   },
   "file_extension": ".py",
   "mimetype": "text/x-python",
   "name": "python",
   "nbconvert_exporter": "python",
   "pygments_lexer": "ipython3",
   "version": "3.11.2"
  },
  "orig_nbformat": 4
 },
 "nbformat": 4,
 "nbformat_minor": 2
}
